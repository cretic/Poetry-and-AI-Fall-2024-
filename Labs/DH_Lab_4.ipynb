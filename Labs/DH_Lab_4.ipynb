{
  "nbformat": 4,
  "nbformat_minor": 0,
  "metadata": {
    "colab": {
      "provenance": [],
      "include_colab_link": true
    },
    "kernelspec": {
      "name": "python3",
      "display_name": "Python 3"
    },
    "language_info": {
      "name": "python"
    }
  },
  "cells": [
    {
      "cell_type": "markdown",
      "metadata": {
        "id": "view-in-github",
        "colab_type": "text"
      },
      "source": [
        "<a href=\"https://colab.research.google.com/github/cretic/Poetry-and-AI-Fall-2024-/blob/main/DH_Lab_4.ipynb\" target=\"_parent\"><img src=\"https://colab.research.google.com/assets/colab-badge.svg\" alt=\"Open In Colab\"/></a>"
      ]
    },
    {
      "cell_type": "markdown",
      "source": [
        "We've already done a ton of work this semester talking about different elements of code, various packages you can use, and tinkering with other people's code. Now, we are going to use DH Lab 4 to get a start on our final project. If you already have an idea feel free to explore it here. Or, if you don't have an idea yet, use this as a jumping off point!"
      ],
      "metadata": {
        "id": "NOLqMf0i_kLR"
      }
    },
    {
      "cell_type": "markdown",
      "source": [
        "As a reminder, here are some of the packages/tools we have already learned about:\n",
        "\n",
        "\n",
        "* Poesy\n",
        "* Prosodic\n",
        "* CMUDICT\n",
        "* NLTK (Natural Language toolkit)\n",
        "* word2vec / google news vectors\n",
        "\n",
        "If you need a reminder on any of these tools, feel free to revisit past coding samples and labs. You can find all the code we have used in \"CODE REPOSITORY\" in the Google Drive.\n",
        "\n",
        "\n",
        "\n"
      ],
      "metadata": {
        "id": "St5qNFadAAU6"
      }
    },
    {
      "cell_type": "markdown",
      "source": [
        "You task is to research an existing tool, and adapt it. If you already have a final project idea, this is a great opportunity to find code that already exists to work off of (and maybe get an additional idea you didn't think of at first!) If you don't have a final project idea yet, this is a great chance to see what is out there and see if it sparks any ideas for you.\n",
        "\n",
        "\n",
        "\n"
      ],
      "metadata": {
        "id": "CXShMNJRAbtH"
      }
    },
    {
      "cell_type": "markdown",
      "source": [
        "Some places you may find an existing tool:\n",
        "\n",
        "\n",
        "* Github\n",
        "* Stack Overflow\n",
        "*   The tools we have already learned about\n",
        "*   Googling\n",
        "*   Asking AI\n",
        "* The footnotes and github pages from articles (co-poet; Walsh et al.)\n",
        "\n",
        "You should focus on tools that have the potential to change / analyze or otherwise contribute to poetry in the ways we have discussed in class.\n",
        "\n",
        "Remember, if you need help or have any questions, you can always email madeline.gupta@yale.edu.\n",
        "\n",
        "\n",
        "\n",
        "\n",
        "\n",
        "\n"
      ],
      "metadata": {
        "id": "2n3PFdOqA0rq"
      }
    },
    {
      "cell_type": "markdown",
      "source": [
        "What did the tool originally do? [your answer here]"
      ],
      "metadata": {
        "id": "6rBO-_mhBupX"
      }
    },
    {
      "cell_type": "markdown",
      "source": [
        "What does your tool do now? [your answer here]\n",
        "\n",
        "\n"
      ],
      "metadata": {
        "id": "8IOfEnnvB4RA"
      }
    },
    {
      "cell_type": "markdown",
      "source": [
        "If relevant: how will you input text and how will you format results / data? [your answer here]"
      ],
      "metadata": {
        "id": "BpMXY5YpcoxQ"
      }
    },
    {
      "cell_type": "code",
      "source": [
        "# original code here (unless you're mostly working from scratch)\n"
      ],
      "metadata": {
        "id": "fLy4Ic5QccnK"
      },
      "execution_count": null,
      "outputs": []
    },
    {
      "cell_type": "code",
      "execution_count": null,
      "metadata": {
        "id": "L_Y9bjS8_a2e"
      },
      "outputs": [],
      "source": [
        "# your code here\n",
        "## don't forget to comment as you addd and edit!\n"
      ]
    },
    {
      "cell_type": "markdown",
      "source": [
        "What challenges did you encounter during your process? [your answer here]"
      ],
      "metadata": {
        "id": "DWadue82CACa"
      }
    },
    {
      "cell_type": "markdown",
      "source": [
        "How do you envision this contributing to your final project? [your answer here]"
      ],
      "metadata": {
        "id": "J4rgQmKSCAOz"
      }
    },
    {
      "cell_type": "markdown",
      "source": [
        "Finally, add your file to a Google Drive repository for the class. You can do this by making a copy and moving it here:\n",
        "https://drive.google.com/drive/folders/1HntIt6aKYVNLe0MvzZGS99m9kKXD6x3k?usp=drive_link"
      ],
      "metadata": {
        "id": "uQfMFPxU9XSx"
      }
    }
  ]
}