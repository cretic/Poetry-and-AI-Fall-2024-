{
  "cells": [
    {
      "cell_type": "markdown",
      "metadata": {
        "colab_type": "text",
        "id": "view-in-github"
      },
      "source": [
        "<a href=\"https://colab.research.google.com/github/cretic/Poetry-and-AI-Fall-2024-/blob/main/DH_Lab_3.ipynb\" target=\"_parent\"><img src=\"https://colab.research.google.com/assets/colab-badge.svg\" alt=\"Open In Colab\"/></a>"
      ]
    },
    {
      "cell_type": "markdown",
      "metadata": {
        "id": "DihapDOgkjy4"
      },
      "source": [
        "Let's try out some pre-written code. Can you run the cell below and identify what it does? Write a couple sentences about what you observe below the code cell."
      ]
    },
    {
      "cell_type": "code",
      "execution_count": null,
      "metadata": {
        "colab": {
          "base_uri": "https://localhost:8080/"
        },
        "id": "7AB7NUXbkIUX",
        "outputId": "43c6aac7-7539-4159-d5bf-ca8684e0b0b7"
      },
      "outputs": [
        {
          "name": "stdout",
          "output_type": "stream",
          "text": [
            "'quick': 2 occurrences\n",
            "'fox': 2 occurrences\n",
            "'dog': 2 occurrences\n",
            "'cat': 0 occurrences\n"
          ]
        }
      ],
      "source": [
        "from collections import Counter\n",
        "import re\n",
        "\n",
        "# Sample text\n",
        "text = \"\"\"\n",
        "The quick brown fox jumps over the lazy dog. The fox is quick and the dog is lazy.\n",
        "\"\"\"\n",
        "\n",
        "# List of words to compare\n",
        "words_to_compare = [\"quick\", \"fox\", \"dog\", \"cat\"]\n",
        "\n",
        "# Preprocess the text: convert to lowercase and remove punctuation\n",
        "cleaned_text = re.sub(r'[^\\w\\s]', '', text.lower())\n",
        "\n",
        "# Tokenize the text into words\n",
        "words = cleaned_text.split()\n",
        "\n",
        "# Count the frequency of each word in the text\n",
        "word_counts = Counter(words)\n",
        "\n",
        "# Display the frequency of each word in the words_to_compare list\n",
        "for word in words_to_compare:\n",
        "    print(f\"'{word}': {word_counts[word]} occurrences\")"
      ]
    },
    {
      "cell_type": "markdown",
      "metadata": {
        "id": "esI5lKkoksEU"
      },
      "source": [
        "Now, let's try to modify it ourselves. Copy and paste the code above into a new code cell and edit the sample text to a poem of your choosing. Make sure to edit the words to compare as well! What do you notice? Write a few sentences below."
      ]
    },
    {
      "cell_type": "code",
      "execution_count": null,
      "metadata": {
        "id": "vzrdzlGJk1qB"
      },
      "outputs": [],
      "source": []
    },
    {
      "cell_type": "markdown",
      "metadata": {
        "id": "i2Lx6kevk5rl"
      },
      "source": [
        "We can also create a function that finds a set of shared words between two poems. There's an error in the function below. Can you fix it so it is able to be run? Try first without asking Gemini."
      ]
    },
    {
      "cell_type": "code",
      "execution_count": null,
      "metadata": {
        "colab": {
          "base_uri": "https://localhost:8080/",
          "height": 198
        },
        "id": "cwspXxrElA8n",
        "outputId": "4aee5091-7501-4259-f2eb-78ff229af6fb"
      },
      "outputs": [
        {
          "name": "stdout",
          "output_type": "stream",
          "text": [
            "Shared words between the two texts:\n"
          ]
        },
        {
          "ename": "NameError",
          "evalue": "name 'Shared_Words' is not defined",
          "output_type": "error",
          "traceback": [
            "\u001b[0;31m---------------------------------------------------------------------------\u001b[0m",
            "\u001b[0;31mNameError\u001b[0m                                 Traceback (most recent call last)",
            "\u001b[0;32m<ipython-input-4-f39af41a6c55>\u001b[0m in \u001b[0;36m<cell line: 30>\u001b[0;34m()\u001b[0m\n\u001b[1;32m     28\u001b[0m \u001b[0;31m# Display the shared words\u001b[0m\u001b[0;34m\u001b[0m\u001b[0;34m\u001b[0m\u001b[0m\n\u001b[1;32m     29\u001b[0m \u001b[0mprint\u001b[0m\u001b[0;34m(\u001b[0m\u001b[0;34m\"Shared words between the two texts:\"\u001b[0m\u001b[0;34m)\u001b[0m\u001b[0;34m\u001b[0m\u001b[0;34m\u001b[0m\u001b[0m\n\u001b[0;32m---> 30\u001b[0;31m \u001b[0mprint\u001b[0m\u001b[0;34m(\u001b[0m\u001b[0mShared_Words\u001b[0m\u001b[0;34m)\u001b[0m\u001b[0;34m\u001b[0m\u001b[0;34m\u001b[0m\u001b[0m\n\u001b[0m",
            "\u001b[0;31mNameError\u001b[0m: name 'Shared_Words' is not defined"
          ]
        }
      ],
      "source": [
        "import re\n",
        "\n",
        "def find_shared_words(text1, text2):\n",
        "    # Preprocess the texts: convert to lowercase and remove punctuation\n",
        "    cleaned_text1 = re.sub(r'[^\\w\\s]', '', text1.lower())\n",
        "    cleaned_text2 = re.sub(r'[^\\w\\s]', '', text2.lower())\n",
        "\n",
        "    # Tokenize the texts into words\n",
        "    words1 = set(cleaned_text1.split())\n",
        "    words2 = set(cleaned_text2.split())\n",
        "\n",
        "    # Find shared words between the two texts\n",
        "    shared_words = words1.intersection(words2)\n",
        "\n",
        "    return shared_words\n",
        "\n",
        "# Sample texts\n",
        "text1 = \"\"\"\n",
        "The quick brown fox jumps over the lazy dog. The fox is quick and smart.\n",
        "\"\"\"\n",
        "text2 = \"\"\"\n",
        "The lazy dog lies down in the sun. The dog is smart but not as quick as the fox.\n",
        "\"\"\"\n",
        "\n",
        "# Find shared words between the two texts\n",
        "shared_words = find_shared_words(text1, text2)\n",
        "\n",
        "# Display the shared words\n",
        "print(\"Shared words between the two texts:\")\n",
        "print(Shared_Words)"
      ]
    },
    {
      "cell_type": "markdown",
      "metadata": {
        "id": "E9qGfUitlNve"
      },
      "source": [
        "Time to step it up a little bit. We've built a synonym generator below for you to try. Run the code cell as is, and then make a change that allows the code to still be run. Can you explain what your change is? Does your change affect the result or no?"
      ]
    },
    {
      "cell_type": "code",
      "execution_count": null,
      "metadata": {
        "id": "jKBHNi7ElbaV"
      },
      "outputs": [],
      "source": [
        "import nltk\n",
        "from nltk.corpus import wordnet\n",
        "\n",
        "nltk.download('wordnet')\n",
        "\n",
        "def find_synonyms(word):\n",
        "  synonyms = []\n",
        "  for syn in wordnet.synsets(word):\n",
        "    for lemma in syn.lemmas():\n",
        "      synonyms.append(lemma.name())\n",
        "  return synonyms\n",
        "\n",
        "# Example usage\n",
        "word = \"happy\"\n",
        "synonyms = find_synonyms(word)\n",
        "print(f\"Synonyms for '{word}': {synonyms}\")"
      ]
    },
    {
      "cell_type": "markdown",
      "metadata": {
        "id": "EefaN4eylw5I"
      },
      "source": [
        "Let's see if we can think outside of the box for our last step of this assignment. Your goal is to build a new tool that assembles data (from strings? from .txts? from .csv?), analyzes, or changes a poem in some way. You CAN use AI to help you if you want (just make sure to acknowledge it per course regulations).\n",
        "\n",
        "Will you pull text from a github repository? Create your own? Will your program create a new kind of data object?\n",
        "\n",
        "Try to import and use CMUDICT!\n",
        "\n",
        "The first step is BRAINSTORMING! Use the text box below to think out your ideas."
      ]
    },
    {
      "cell_type": "markdown",
      "metadata": {
        "id": "e9J5xp5a6byi"
      },
      "source": []
    },
    {
      "cell_type": "markdown",
      "metadata": {
        "id": "7yc8Df4i6l0u"
      },
      "source": [
        "Now, try coding it."
      ]
    },
    {
      "cell_type": "code",
      "execution_count": null,
      "metadata": {
        "id": "1lU1Nn7j6dCk"
      },
      "outputs": [],
      "source": [
        "# prompt: can you write a program that loops over each line in a poem and pulls out the first and last words\n",
        "\n",
        "def extract_first_last_words(poem):\n",
        "  \"\"\"\n",
        "  Extracts the first and last words from each line in a poem.\n",
        "\n",
        "  Args:\n",
        "    poem: A string containing the poem.\n",
        "\n",
        "  Returns:\n",
        "    A list of tuples, where each tuple contains the first and last word of a line.\n",
        "  \"\"\"\n",
        "\n",
        "  first_last_words = []\n",
        "  for line in poem.splitlines():\n",
        "    words = line.split()\n",
        "    if words:\n",
        "      first_word = words[0]\n",
        "      last_word = words[-1]\n",
        "      first_last_words.append((first_word, last_word))\n",
        "  return first_last_words\n",
        "\n",
        "\n",
        "# Example usage:\n",
        "poem = \"\"\"\n",
        "The quick brown fox\n",
        "Jumps over the lazy dog\n",
        "The fox is quick and the dog is lazy\n",
        "\"\"\"\n",
        "\n",
        "first_last_word_pairs = extract_first_last_words(poem)\n",
        "\n",
        "for first_word, last_word in first_last_word_pairs:\n",
        "  print(f\"First word: {first_word}, Last word: {last_word}\")\n"
      ]
    },
    {
      "cell_type": "markdown",
      "metadata": {
        "id": "3yt9GdGo6cFQ"
      },
      "source": [
        "Once you have your code running*, write a short paragraph about what you did, how you did it, and how you feel it turned out.\n",
        "\n",
        "*oh no, your code never ran correctly? talk about that instead!"
      ]
    },
    {
      "cell_type": "markdown",
      "metadata": {
        "id": "tbzfh5Uu6dxz"
      },
      "source": []
    }
  ],
  "metadata": {
    "colab": {
      "include_colab_link": true,
      "provenance": []
    },
    "kernelspec": {
      "display_name": "Python 3",
      "name": "python3"
    },
    "language_info": {
      "name": "python"
    }
  },
  "nbformat": 4,
  "nbformat_minor": 0
}
