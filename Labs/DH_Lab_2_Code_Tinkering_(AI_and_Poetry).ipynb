{
  "cells": [
    {
      "cell_type": "markdown",
      "metadata": {
        "colab_type": "text",
        "id": "view-in-github"
      },
      "source": [
        "<a href=\"https://colab.research.google.com/github/cretic/Poetry-and-AI-Fall-2024-/blob/main/DH_Lab_2_Code_Tinkering_(AI_and_Poetry).ipynb\" target=\"_parent\"><img src=\"https://colab.research.google.com/assets/colab-badge.svg\" alt=\"Open In Colab\"/></a>"
      ]
    },
    {
      "cell_type": "markdown",
      "metadata": {
        "id": "Y0fDpP0G5sN3"
      },
      "source": [
        "Congrats on making it to the second DH lab! In this lab, we will be exploring \"tinkering\" with code. This means we will make some of our own changes and try to explain what the code is doing. Please reach out to Madeline - madeline.gupta@yale.edu if you need help."
      ]
    },
    {
      "cell_type": "markdown",
      "metadata": {
        "id": "f8kqVvR855u_"
      },
      "source": [
        "The first thing we will do is read in the poem we are going to use for this lab. Reminder: to run the code, click the play button by the [] sign."
      ]
    },
    {
      "cell_type": "code",
      "execution_count": null,
      "metadata": {
        "collapsed": true,
        "id": "SnHkpMJY4W-H"
      },
      "outputs": [],
      "source": [
        "# Here's the poem, stored as a string\n",
        "poem = \"The cow is of the bovine ilk;\\nOne end is moo, the other, milk\\nOgden Nash\""
      ]
    },
    {
      "cell_type": "markdown",
      "metadata": {
        "id": "_W5TU56P5slo"
      },
      "source": [
        "1. Run the code below. What do you think it does? Add your answer to the comments! (hint: comments begin with a #)"
      ]
    },
    {
      "cell_type": "code",
      "execution_count": null,
      "metadata": {
        "colab": {
          "base_uri": "https://localhost:8080/"
        },
        "id": "yZUo9p1j5lvs",
        "outputId": "1cac26bd-60b7-4899-f5fe-114c6fc2d94c"
      },
      "outputs": [
        {
          "name": "stdout",
          "output_type": "stream",
          "text": [
            "The cow is of the bovine ilk;\n",
            "One end is moo, the other, milk\n",
            "Ogden Nash\n"
          ]
        }
      ],
      "source": [
        "# What does this code do?\n",
        "# Your answer here\n",
        "print(poem)\n"
      ]
    },
    {
      "cell_type": "markdown",
      "metadata": {
        "id": "_NM7E66K5s2L"
      },
      "source": [
        "2. Let's step it up a little. Can you guess what this code does? Add your answer to the comments!"
      ]
    },
    {
      "cell_type": "code",
      "execution_count": null,
      "metadata": {
        "colab": {
          "base_uri": "https://localhost:8080/"
        },
        "id": "rKl2Z-nZ5nme",
        "outputId": "644209ff-7699-4873-fd6f-0cb4d231e00e"
      },
      "outputs": [
        {
          "name": "stdout",
          "output_type": "stream",
          "text": [
            "The llama is of the bovine ilk;\n",
            "One end is moo, the other, milk\n",
            "Ogden Nash\n"
          ]
        }
      ],
      "source": [
        "# What does this code do?\n",
        "# Your answer here\n",
        "new_animal = \"llama\"\n",
        "new_poem = poem.replace(\"cow\", new_animal)\n",
        "print(new_poem)"
      ]
    },
    {
      "cell_type": "markdown",
      "metadata": {
        "id": "nbMRxbpd7dq1"
      },
      "source": [
        "3. Now it's your turn! Can you change the animal again? Try replacing it with your favorite animal (change dog to something else)."
      ]
    },
    {
      "cell_type": "code",
      "execution_count": null,
      "metadata": {
        "colab": {
          "base_uri": "https://localhost:8080/"
        },
        "id": "s6bG_X7b7EU1",
        "outputId": "5685b85d-eb14-4384-a017-3bb1573f410f"
      },
      "outputs": [
        {
          "name": "stdout",
          "output_type": "stream",
          "text": [
            "The dog is of the bovine ilk;\n",
            "One end is moo, the other, milk\n",
            "Ogden Nash\n"
          ]
        }
      ],
      "source": [
        "my_favorite_animal = \"dog\"\n",
        "my_new_poem = poem.replace(\"cow\", my_favorite_animal)\n",
        "print(my_new_poem)\n"
      ]
    },
    {
      "cell_type": "code",
      "execution_count": null,
      "metadata": {
        "id": "hWUPBBx4-S_t"
      },
      "outputs": [],
      "source": []
    },
    {
      "cell_type": "markdown",
      "metadata": {
        "id": "MM5rCJdg9a-d"
      },
      "source": [
        "4. Now that you have the hang of it, let's try some more fun functions.\n",
        "(hint: a function is a piece of code that performs a specific function, and can do it over and over again.)\n",
        "Add explanations to the following code blocks!"
      ]
    },
    {
      "cell_type": "code",
      "execution_count": null,
      "metadata": {
        "colab": {
          "base_uri": "https://localhost:8080/"
        },
        "id": "ADavOPPa9ai2",
        "outputId": "cb7d2604-e93d-43b4-f0da-1751547c000a"
      },
      "outputs": [
        {
          "name": "stdout",
          "output_type": "stream",
          "text": [
            "72\n"
          ]
        }
      ],
      "source": [
        "# What does this code do?\n",
        "# Your answer here\n",
        "length_of_poem = len(poem)\n",
        "print(length_of_poem)"
      ]
    },
    {
      "cell_type": "code",
      "execution_count": null,
      "metadata": {
        "colab": {
          "base_uri": "https://localhost:8080/"
        },
        "id": "dNHJ86CU9eTN",
        "outputId": "71a51e52-79d8-4eb0-9135-506f1e3e7498"
      },
      "outputs": [
        {
          "name": "stdout",
          "output_type": "stream",
          "text": [
            "THE COW IS OF THE BOVINE ILK;\n",
            "ONE END IS MOO, THE OTHER, MILK\n",
            "OGDEN NASH\n"
          ]
        }
      ],
      "source": [
        "# What does this code do?\n",
        "# Your answer here\n",
        "upper_case_poem = poem.upper()\n",
        "print(upper_case_poem)\n"
      ]
    },
    {
      "cell_type": "code",
      "execution_count": null,
      "metadata": {
        "colab": {
          "base_uri": "https://localhost:8080/"
        },
        "id": "ALFXXLyA9ehv",
        "outputId": "fdc7073e-a583-4cd1-8d32-0efa76bfecdb"
      },
      "outputs": [
        {
          "name": "stdout",
          "output_type": "stream",
          "text": [
            "['The cow is of the bovine ilk;', 'One end is moo, the other, milk', 'Ogden Nash']\n"
          ]
        }
      ],
      "source": [
        "# What does this code do?\n",
        "# Your answer here\n",
        "poem_lines = poem.split('\\n')\n",
        "print(poem_lines)\n"
      ]
    },
    {
      "cell_type": "code",
      "execution_count": null,
      "metadata": {
        "colab": {
          "base_uri": "https://localhost:8080/"
        },
        "id": "tX8NvZG99ewV",
        "outputId": "304064b4-390c-4796-aebb-6d1e47d415b1"
      },
      "outputs": [
        {
          "name": "stdout",
          "output_type": "stream",
          "text": [
            "16\n"
          ]
        }
      ],
      "source": [
        "# What does this code do?\n",
        "# Your answer here\n",
        "poem_words = poem.split()\n",
        "number_of_words = len(poem_words)\n",
        "print(number_of_words)\n"
      ]
    },
    {
      "cell_type": "code",
      "execution_count": null,
      "metadata": {
        "colab": {
          "base_uri": "https://localhost:8080/"
        },
        "id": "od1CnoeY9rm3",
        "outputId": "9c50f88d-f76c-4b67-cb0d-c5a2c7180f75"
      },
      "outputs": [
        {
          "name": "stdout",
          "output_type": "stream",
          "text": [
            "41\n"
          ]
        }
      ],
      "source": [
        "# What does this code do?\n",
        "# Your answer here\n",
        "word_to_find = \"moo\"\n",
        "word_position = poem.find(word_to_find)\n",
        "print(word_position)\n"
      ]
    },
    {
      "cell_type": "code",
      "execution_count": null,
      "metadata": {
        "colab": {
          "base_uri": "https://localhost:8080/"
        },
        "id": "9kFIdUD19s4S",
        "outputId": "4143e599-9aef-4f8f-ce98-4d626a2a3c1b"
      },
      "outputs": [
        {
          "name": "stdout",
          "output_type": "stream",
          "text": [
            "['T', 'h', 'e', ' ', 'c', 'o', 'w', ' ', 'i', 's', ' ', 'o', 'f', ' ', 't', 'h', 'e', ' ', 'b', 'o', 'v', 'i', 'n', 'e', ' ', 'i', 'l', 'k', ';', '\\n', 'O', 'n', 'e', ' ', 'e', 'n', 'd', ' ', 'i', 's', ' ', 'm', 'o', 'o', ',', ' ', 't', 'h', 'e', ' ', 'o', 't', 'h', 'e', 'r', ',', ' ', 'm', 'i', 'l', 'k', '\\n', 'O', 'g', 'd', 'e', 'n', ' ', 'N', 'a', 's', 'h']\n"
          ]
        }
      ],
      "source": [
        "# What does this code do?\n",
        "# Your answer here\n",
        "characters = list(poem)\n",
        "print(characters)\n"
      ]
    },
    {
      "cell_type": "code",
      "execution_count": null,
      "metadata": {
        "colab": {
          "base_uri": "https://localhost:8080/"
        },
        "id": "VlILo2z39xav",
        "outputId": "a4945e5d-24ff-4712-fbbc-f9298331a684"
      },
      "outputs": [
        {
          "name": "stdout",
          "output_type": "stream",
          "text": [
            "hsaN nedgO\n",
            "klim ,rehto eht ,oom si dne enO\n",
            ";kli enivob eht fo si woc ehT\n"
          ]
        }
      ],
      "source": [
        "# What does this code do?\n",
        "# Your answer here\n",
        "reversed_poem = poem[::-1]\n",
        "print(reversed_poem)\n"
      ]
    },
    {
      "cell_type": "code",
      "execution_count": null,
      "metadata": {
        "colab": {
          "base_uri": "https://localhost:8080/"
        },
        "id": "rcEcqySt98vh",
        "outputId": "65619361-a785-4b43-ec2f-c9118a3bf5c3"
      },
      "outputs": [
        {
          "name": "stdout",
          "output_type": "stream",
          "text": [
            "False\n",
            "True\n"
          ]
        }
      ],
      "source": [
        "# What does this code do?\n",
        "# Your answer here\n",
        "word_to_check = \"instagram\"\n",
        "contains_word = word_to_check in poem\n",
        "print(contains_word)\n",
        "\n",
        "word_to_check = \"bovine\"\n",
        "contains_word = word_to_check in poem\n",
        "print(contains_word)\n"
      ]
    },
    {
      "cell_type": "code",
      "execution_count": null,
      "metadata": {
        "id": "vdi0ZXkUcVIM"
      },
      "outputs": [],
      "source": []
    },
    {
      "cell_type": "markdown",
      "metadata": {
        "id": "5wpO6Sgk9rXt"
      },
      "source": [
        "Great job! Before we finish, let's see if we can apply what we learned. Can you copy the code we have used so far to choose and input your own poem, reverse it, and return how many letters and words are in it?"
      ]
    },
    {
      "cell_type": "code",
      "execution_count": null,
      "metadata": {
        "id": "CiIYm3SP_Faz"
      },
      "outputs": [],
      "source": [
        "#try out the challenge here"
      ]
    },
    {
      "cell_type": "markdown",
      "metadata": {
        "id": "nSjvOaEujwDb"
      },
      "source": [
        "Can you imagine some useful actions you might want to perform for a poem? Word counting,for instance, or creating an index of all words. What else? Feel free to say how you might do this in python (or even ask gemini to show you how!)"
      ]
    },
    {
      "cell_type": "code",
      "execution_count": null,
      "metadata": {
        "colab": {
          "base_uri": "https://localhost:8080/"
        },
        "id": "kYA5P0GTkbgr",
        "outputId": "ed984ed5-49b3-4c28-8ac5-610ae2bd6530"
      },
      "outputs": [
        {
          "name": "stdout",
          "output_type": "stream",
          "text": [
            "Author:Ogden Nash\n"
          ]
        }
      ],
      "source": [
        "#For example: Read the last line of \"poem\" and assign it to the variable \"author\"\n",
        "\n",
        "author = poem.split('\\n')[-1]\n",
        "print('Author:' + author)\n"
      ]
    },
    {
      "cell_type": "markdown",
      "metadata": {
        "id": "srmDWR6ykSU9"
      },
      "source": [
        "Write your response here:"
      ]
    },
    {
      "cell_type": "markdown",
      "metadata": {
        "id": "AbFa2ehP_IFg"
      },
      "source": [
        "You're all done!"
      ]
    }
  ],
  "metadata": {
    "colab": {
      "include_colab_link": true,
      "provenance": []
    },
    "kernelspec": {
      "display_name": "Python 3",
      "name": "python3"
    },
    "language_info": {
      "name": "python"
    }
  },
  "nbformat": 4,
  "nbformat_minor": 0
}
