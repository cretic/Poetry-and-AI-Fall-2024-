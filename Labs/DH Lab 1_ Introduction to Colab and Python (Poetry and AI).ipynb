{
 "cells": [
  {
   "cell_type": "markdown",
   "metadata": {
    "id": "I8i5qHjvnk8e"
   },
   "source": [
    "# Getting Started\n",
    "\n",
    "\n",
    "Welcome to our first DH lab! This lab will set up skills for you to be able to read in a text file to colab, understand some basic coding ideas, and get ready for the rest of our labs. Feel free to reach out to Madeline - madeline.gupta@yale.edu if you need help.\n",
    "\n",
    "Before proceeding with the notebook below, please make sure you click \"File\" then click \"Save a copy in drive\". Doing so will make sure your work gets saved in your personal Google Drive account!\n",
    "\n",
    "To make sure you've successfully created a copy of this notebook, please click \"File\" in the upper navigation bar, then click \"Save\". Once you see a little notification that your work has been saved successfully, you're ready to proceed!\n",
    "\n"
   ]
  },
  {
   "cell_type": "code",
   "execution_count": null,
   "metadata": {},
   "outputs": [],
   "source": []
  },
  {
   "cell_type": "markdown",
   "metadata": {
    "id": "CGOstGNVsRvH"
   },
   "source": [
    "# Collecting Resources\n",
    "\n",
    "This notebook makes use of a files that is not present in the current notebook environment. To load those resources, please hover your mouse between the [ ] braces in the cell below and click the play button that appears. Once you've done that, we're ready to start the notebook! Can you guess what we may have imported here?"
   ]
  },
  {
   "cell_type": "code",
   "execution_count": null,
   "metadata": {
    "colab": {
     "base_uri": "https://localhost:8080/"
    },
    "executionInfo": {
     "elapsed": 600,
     "status": "ok",
     "timestamp": 1725549078716,
     "user": {
      "displayName": "Madeline Gupta",
      "userId": "09239639823797722636"
     },
     "user_tz": 240
    },
    "id": "sq_V2nIBrdhX",
    "outputId": "977edf34-46ca-45d3-d7c1-16432e3ffcca"
   },
   "outputs": [
    {
     "name": "stdout",
     "output_type": "stream",
     "text": [
      "--2024-09-05 15:11:18--  https://raw.githubusercontent.com/YaleDHLab/lab-workshops/master/first-steps-with-python/jabberwocky.txt\n",
      "Resolving raw.githubusercontent.com (raw.githubusercontent.com)... 185.199.108.133, 185.199.109.133, 185.199.110.133, ...\n",
      "Connecting to raw.githubusercontent.com (raw.githubusercontent.com)|185.199.108.133|:443... connected.\n",
      "HTTP request sent, awaiting response... 200 OK\n",
      "Length: 1032 (1.0K) [text/plain]\n",
      "Saving to: ‘jabberwocky.txt’\n",
      "\n",
      "\rjabberwocky.txt       0%[                    ]       0  --.-KB/s               \rjabberwocky.txt     100%[===================>]   1.01K  --.-KB/s    in 0s      \n",
      "\n",
      "2024-09-05 15:11:18 (32.1 MB/s) - ‘jabberwocky.txt’ saved [1032/1032]\n",
      "\n"
     ]
    }
   ],
   "source": [
    "!wget https://raw.githubusercontent.com/YaleDHLab/lab-workshops/master/first-steps-with-python/jabberwocky.txt"
   ]
  },
  {
   "cell_type": "code",
   "execution_count": null,
   "metadata": {
    "id": "Gg1Rwl6noaMF"
   },
   "outputs": [],
   "source": [
    "# Some quick Colab/Python tips:\n",
    "#\n",
    "# lines that start with the '#' pound sign (or hashtag symbol) are comments, and are not run by python.\n",
    "# Adding a cell below your current cell: Command+m and then 'b' (Windows: Control+m and then 'b')\n",
    "# Adding a cell above your current cell: Command+m and then 'a' (Windows: Control+m and then 'a')\n",
    "#\n",
    "# Shift-Return 'excecutes' a cell, in the sense of running it. So does hitting the Play arrow inside the circle on the far left.\n",
    "# Return without Shift just starts a new line."
   ]
  },
  {
   "cell_type": "markdown",
   "metadata": {
    "id": "wp_7MGS4nk8h"
   },
   "source": [
    "# Getting Started\n",
    "\n",
    "### Variables\n",
    "\n",
    "Variables are the core building blocks of computer programming. A variable is a sequence of characters to which we assign a value or meaning using the = sign. Let's look at an example:"
   ]
  },
  {
   "cell_type": "code",
   "execution_count": null,
   "metadata": {
    "id": "yVRcnK2Fnk8h"
   },
   "outputs": [],
   "source": [
    "my_jabber = 'slithy'"
   ]
  },
  {
   "cell_type": "markdown",
   "metadata": {
    "id": "m7gdPyI3nk8h"
   },
   "source": [
    "Here `my_jabber` is the variable, and `'slithy'` is the value assigned to that variable. In general in Python, the thing on the left hand side of the equals sign is the variable, and the thing on the right hand side is that variable's value.\n",
    "\n",
    "When creating a variable, keep in mind that **variable names**:\n",
    "- can only include letters, numbers, and underscores\n",
    "- must start with a letter or underscore (variables that start with underscores have a special meaning, so for now, we'll start our all of our variables with letters)\n",
    "- are case sensitive.\n",
    "\n",
    "Given the above rules, try to anticipate which cells below will return an error message:"
   ]
  },
  {
   "cell_type": "code",
   "execution_count": null,
   "metadata": {
    "id": "CvzI-dS1nk8i"
   },
   "outputs": [],
   "source": [
    "jabberwocky_question = 'Hast thou slain the Jabberwock?'"
   ]
  },
  {
   "cell_type": "code",
   "execution_count": null,
   "metadata": {
    "id": "-yyOaJDOnk8i"
   },
   "outputs": [],
   "source": [
    "_jabberwocky_question = 'Who are you?'"
   ]
  },
  {
   "cell_type": "code",
   "execution_count": null,
   "metadata": {
    "id": "syPCe8J6nk8i"
   },
   "outputs": [],
   "source": [
    "jabberwocky_Question1 = 'Who are you?'"
   ]
  },
  {
   "cell_type": "code",
   "execution_count": null,
   "metadata": {
    "colab": {
     "base_uri": "https://localhost:8080/",
     "height": 108
    },
    "executionInfo": {
     "elapsed": 20,
     "status": "error",
     "timestamp": 1720719204633,
     "user": {
      "displayName": "Madeline Gupta",
      "userId": "09239639823797722636"
     },
     "user_tz": 420
    },
    "id": "QZwuo4Gvnk8j",
    "outputId": "7491a6c9-d624-464c-e03e-ab1fc01aac00"
   },
   "outputs": [
    {
     "ename": "SyntaxError",
     "evalue": "invalid imaginary literal (<ipython-input-7-4b9f21706dba>, line 1)",
     "output_type": "error",
     "traceback": [
      "\u001b[0;36m  File \u001b[0;32m\"<ipython-input-7-4b9f21706dba>\"\u001b[0;36m, line \u001b[0;32m1\u001b[0m\n\u001b[0;31m    1jabberwocky_question = 'Who are you?'\u001b[0m\n\u001b[0m     ^\u001b[0m\n\u001b[0;31mSyntaxError\u001b[0m\u001b[0;31m:\u001b[0m invalid imaginary literal\n"
     ]
    }
   ],
   "source": [
    "1jabberwocky_question = 'Who are you?'"
   ]
  },
  {
   "cell_type": "markdown",
   "metadata": {
    "id": "TnSzf82jLWyn"
   },
   "source": [
    "<details>\n",
    "  <summary><h5>Solution</h5></summary>\n",
    "\n",
    "The final variable (`1jabberwocky_question`) is the problematic variable name, because it violates the second rule above (which states variables must start with a letter or an underscore).\n",
    "\n",
    "To verify this for yourself, try instantiating each variable above and you should see that only the last variable throws an error!\n",
    "</details>"
   ]
  },
  {
   "cell_type": "markdown",
   "metadata": {
    "id": "oeIPjMyMnk8j"
   },
   "source": [
    "Variables can be reassigned in Python. We might assign a value to a variable, then later assign a different value to that variable:"
   ]
  },
  {
   "cell_type": "code",
   "execution_count": null,
   "metadata": {
    "id": "Nf0jIMa3nk8j"
   },
   "outputs": [],
   "source": [
    "my_jabberwocky = 'slithy'\n",
    "my_jabberwocky = 'toves'"
   ]
  },
  {
   "cell_type": "markdown",
   "metadata": {
    "id": "cg0wLSjOnk8j"
   },
   "source": [
    "Here `my_jabberwocky` is given an initial value `'slithy'`, but is then given a new value `'toves'`."
   ]
  },
  {
   "cell_type": "markdown",
   "metadata": {
    "id": "FO9yLgpank8j"
   },
   "source": [
    "### Printing\n",
    "\n",
    "To check the value assigned to a variable at any given moment, you can use the `print()` function:"
   ]
  },
  {
   "cell_type": "code",
   "execution_count": null,
   "metadata": {
    "colab": {
     "base_uri": "https://localhost:8080/"
    },
    "executionInfo": {
     "elapsed": 345,
     "status": "ok",
     "timestamp": 1720719278827,
     "user": {
      "displayName": "Madeline Gupta",
      "userId": "09239639823797722636"
     },
     "user_tz": 420
    },
    "id": "R2vXPyyunk8k",
    "outputId": "cc569006-d307-4c8d-bf3b-10b799b77e8d"
   },
   "outputs": [
    {
     "name": "stdout",
     "output_type": "stream",
     "text": [
      "slithy\n"
     ]
    }
   ],
   "source": [
    "my_jabberwocky = 'slithy'\n",
    "print(my_jabberwocky)"
   ]
  },
  {
   "cell_type": "markdown",
   "metadata": {
    "id": "VtJDrCPGnk8k"
   },
   "source": [
    "The `print()` command is a type of function. We can recognize `print()` as a function because it has parentheses after the name. In general, **functions** are little pieces of code that take **arguments** (the text enclosed in parentheses) as input and do something with those arguments. The `print()` function, for example, takes as its argument a variable like `my_jabberwocky`, then displays the value assigned to that variable. We will explore functions in greater depth below. For now, we just want to note that `print()` is a function, which we can recognize by the presence of parentheses after the function's variable name."
   ]
  },
  {
   "cell_type": "markdown",
   "metadata": {
    "id": "tfxXZYqbnk8k"
   },
   "source": [
    "See if you can use the `print()` function to tell what value is assigned to the following variable:"
   ]
  },
  {
   "cell_type": "code",
   "execution_count": null,
   "metadata": {
    "id": "oSTI6DEhnk8k"
   },
   "outputs": [],
   "source": [
    "# see if you can display the value assigned to `my_motto` below\n",
    "my_motto = \"Beware the Jabberwock, my son!\" + \", \" + \"The jaws that bite, the claws that catch!\"\n",
    "\n",
    "# add your code here"
   ]
  },
  {
   "cell_type": "markdown",
   "metadata": {
    "id": "L7iLHJbVNLFR"
   },
   "source": [
    "<details>\n",
    "  <summary><h5>Solution</h5></summary>\n",
    "  We can use the print function on the `my_motto` string as follows:\n",
    "\n",
    "  ```\n",
    "  print(my_motto)\n",
    "  ```\n",
    "\n",
    "  If you had trouble with the exercise above, try copying and pasting the code snippet in this solution block into a new code cell to see what the output looks like!\n",
    "\n",
    "</details>"
   ]
  },
  {
   "cell_type": "markdown",
   "metadata": {
    "id": "i_VjnyzInk8k"
   },
   "source": [
    "### Introspection\n",
    "\n",
    "Just as we can use the `print()` function to see the value assigned to a variable, we can use the `dir()` function to see the kinds of things we can do with a variable. Brace yourself though, the `dir()` command displays lots of options!"
   ]
  },
  {
   "cell_type": "code",
   "execution_count": null,
   "metadata": {
    "colab": {
     "base_uri": "https://localhost:8080/"
    },
    "executionInfo": {
     "elapsed": 362,
     "status": "ok",
     "timestamp": 1720719356552,
     "user": {
      "displayName": "Madeline Gupta",
      "userId": "09239639823797722636"
     },
     "user_tz": 420
    },
    "id": "mPmCwC3qnk8l",
    "outputId": "d3283393-2a9e-4c97-9e9d-482c1437ea76"
   },
   "outputs": [
    {
     "data": {
      "text/plain": [
       "['__add__',\n",
       " '__class__',\n",
       " '__contains__',\n",
       " '__delattr__',\n",
       " '__dir__',\n",
       " '__doc__',\n",
       " '__eq__',\n",
       " '__format__',\n",
       " '__ge__',\n",
       " '__getattribute__',\n",
       " '__getitem__',\n",
       " '__getnewargs__',\n",
       " '__gt__',\n",
       " '__hash__',\n",
       " '__init__',\n",
       " '__init_subclass__',\n",
       " '__iter__',\n",
       " '__le__',\n",
       " '__len__',\n",
       " '__lt__',\n",
       " '__mod__',\n",
       " '__mul__',\n",
       " '__ne__',\n",
       " '__new__',\n",
       " '__reduce__',\n",
       " '__reduce_ex__',\n",
       " '__repr__',\n",
       " '__rmod__',\n",
       " '__rmul__',\n",
       " '__setattr__',\n",
       " '__sizeof__',\n",
       " '__str__',\n",
       " '__subclasshook__',\n",
       " 'capitalize',\n",
       " 'casefold',\n",
       " 'center',\n",
       " 'count',\n",
       " 'encode',\n",
       " 'endswith',\n",
       " 'expandtabs',\n",
       " 'find',\n",
       " 'format',\n",
       " 'format_map',\n",
       " 'index',\n",
       " 'isalnum',\n",
       " 'isalpha',\n",
       " 'isascii',\n",
       " 'isdecimal',\n",
       " 'isdigit',\n",
       " 'isidentifier',\n",
       " 'islower',\n",
       " 'isnumeric',\n",
       " 'isprintable',\n",
       " 'isspace',\n",
       " 'istitle',\n",
       " 'isupper',\n",
       " 'join',\n",
       " 'ljust',\n",
       " 'lower',\n",
       " 'lstrip',\n",
       " 'maketrans',\n",
       " 'partition',\n",
       " 'removeprefix',\n",
       " 'removesuffix',\n",
       " 'replace',\n",
       " 'rfind',\n",
       " 'rindex',\n",
       " 'rjust',\n",
       " 'rpartition',\n",
       " 'rsplit',\n",
       " 'rstrip',\n",
       " 'split',\n",
       " 'splitlines',\n",
       " 'startswith',\n",
       " 'strip',\n",
       " 'swapcase',\n",
       " 'title',\n",
       " 'translate',\n",
       " 'upper',\n",
       " 'zfill']"
      ]
     },
     "execution_count": 10,
     "metadata": {},
     "output_type": "execute_result"
    }
   ],
   "source": [
    "title = 'Jabberwocky'\n",
    "dir(title)"
   ]
  },
  {
   "cell_type": "markdown",
   "metadata": {
    "id": "p-ihFtU-nk8l"
   },
   "source": [
    "Running the `dir()` function returns a list of methods that are defined on the provided variable. In the example above, we can see that `title` has 50 or so methods defined. **Methods** are similar to functions, except they're tied to the variable (or object) you're working with. You can call a method using dot notation. Let's look at a few examples:"
   ]
  },
  {
   "cell_type": "code",
   "execution_count": null,
   "metadata": {
    "colab": {
     "base_uri": "https://localhost:8080/",
     "height": 35
    },
    "executionInfo": {
     "elapsed": 367,
     "status": "ok",
     "timestamp": 1720719363594,
     "user": {
      "displayName": "Madeline Gupta",
      "userId": "09239639823797722636"
     },
     "user_tz": 420
    },
    "id": "HqEyf6xank8l",
    "outputId": "977b7859-fbc5-474e-f797-0a9be41307f5"
   },
   "outputs": [
    {
     "data": {
      "application/vnd.google.colaboratory.intrinsic+json": {
       "type": "string"
      },
      "text/plain": [
       "'JABBERWOCKY'"
      ]
     },
     "execution_count": 11,
     "metadata": {},
     "output_type": "execute_result"
    }
   ],
   "source": [
    "title.upper()"
   ]
  },
  {
   "cell_type": "code",
   "execution_count": null,
   "metadata": {
    "colab": {
     "base_uri": "https://localhost:8080/",
     "height": 35
    },
    "executionInfo": {
     "elapsed": 2,
     "status": "ok",
     "timestamp": 1720719365280,
     "user": {
      "displayName": "Madeline Gupta",
      "userId": "09239639823797722636"
     },
     "user_tz": 420
    },
    "id": "__OgBciQnk8l",
    "outputId": "d96a812e-fbda-4204-bb13-88bf394d5da0"
   },
   "outputs": [
    {
     "data": {
      "application/vnd.google.colaboratory.intrinsic+json": {
       "type": "string"
      },
      "text/plain": [
       "'jabberwocky'"
      ]
     },
     "execution_count": 12,
     "metadata": {},
     "output_type": "execute_result"
    }
   ],
   "source": [
    "title.lower()"
   ]
  },
  {
   "cell_type": "markdown",
   "metadata": {
    "id": "MJnjtmEPnk8l"
   },
   "source": [
    "We can see that the `upper()` method lets us uppercase our title, and the `lower()` method lets us lowercase our title. We will use more methods in just a moment. For now, we just want to remember that the `dir()` command tells us which methods can be called on variables."
   ]
  },
  {
   "cell_type": "markdown",
   "metadata": {
    "id": "ClWQDkz8nk8l"
   },
   "source": [
    "See if you can use the `dir()` command to identify the methods available on the variable below:"
   ]
  },
  {
   "cell_type": "code",
   "execution_count": null,
   "metadata": {
    "id": "BZYeLQLhnk8m"
   },
   "outputs": [],
   "source": [
    "# use the `dir()` command below to identify the methods available on the variable below\n",
    "song = '''\n",
    "  One, two! One, two! And through and through\n",
    "      The vorpal blade went snicker-snack!\n",
    "'''\n",
    "\n",
    "#add your code here"
   ]
  },
  {
   "cell_type": "markdown",
   "metadata": {
    "id": "JptXAy0mOUQ6"
   },
   "source": [
    "<details>\n",
    "  <summary><h5>Solution</h5></summary>\n",
    "  We can run the `dir()` command on the `song` variable as follows:\n",
    "\n",
    "  ```\n",
    "  dir(song)\n",
    "  ```\n",
    "\n",
    "  The output of that command shows all of the methods one can call on `song`.\n",
    "\n",
    "</details>"
   ]
  },
  {
   "cell_type": "markdown",
   "metadata": {
    "id": "ml73B4Vqnk8m"
   },
   "source": [
    "### Data Type: Strings\n",
    "\n",
    "All of the variables we have seen so far have been examples of \"strings\", another way of referring to text data. We know these variables are strings because their values are wrapped in quotation marks.\n",
    "\n",
    "Can you explain the error message we get if we try to assign text data as a value without using quotation marks?"
   ]
  },
  {
   "cell_type": "code",
   "execution_count": null,
   "metadata": {
    "id": "UKU5rJxonk8m",
    "scrolled": true
   },
   "outputs": [],
   "source": [
    "# the code below will result in an error\n",
    "main_character = Jabberwocky\n",
    "\n",
    "# fix the above code here"
   ]
  },
  {
   "cell_type": "markdown",
   "metadata": {
    "id": "jgtL_49pOom-"
   },
   "source": [
    "<details>\n",
    "  <summary><h5>Solution</h5></summary>\n",
    "  The problem with the line above is that Python interprets Alice as a variable, as it doesn't have quotation marks around it. We can fix that by placing quotes around Alice:\n",
    "\n",
    "  ```\n",
    "  main_character = \"Alice\"\n",
    "  ```\n",
    "\n",
    "  or\n",
    "\n",
    "  ```\n",
    "  main_character = 'Alice'\n",
    "  ```\n",
    "\n",
    "(The type of quotation mark we use does not matter--both are treated identically.)\n",
    "\n",
    "</details>"
   ]
  },
  {
   "cell_type": "markdown",
   "metadata": {
    "id": "WBqq_WpNnk8p"
   },
   "source": [
    "### Reading Files\n",
    "\n",
    "Many Python programs need to read files to load data you have collected into memory. Let's practice reading a file:"
   ]
  },
  {
   "cell_type": "code",
   "execution_count": 3,
   "metadata": {
    "colab": {
     "base_uri": "https://localhost:8080/",
     "height": 144
    },
    "executionInfo": {
     "elapsed": 204,
     "status": "error",
     "timestamp": 1731101051224,
     "user": {
      "displayName": "Madeline Gupta",
      "userId": "09239639823797722636"
     },
     "user_tz": 300
    },
    "id": "vfilZnCank8q",
    "outputId": "6cb04af3-6606-45b3-dcf7-31641a0f69b1"
   },
   "outputs": [
    {
     "ename": "FileNotFoundError",
     "evalue": "[Errno 2] No such file or directory: '/Users/maddiegupta/Desktop/sample1.txt'",
     "output_type": "error",
     "traceback": [
      "\u001b[0;31m---------------------------------------------------------------------------\u001b[0m",
      "\u001b[0;31mFileNotFoundError\u001b[0m                         Traceback (most recent call last)",
      "\u001b[0;32m<ipython-input-3-34bcf96ecbf1>\u001b[0m in \u001b[0;36m<cell line: 1>\u001b[0;34m()\u001b[0m\n\u001b[0;32m----> 1\u001b[0;31m \u001b[0mmy_file\u001b[0m \u001b[0;34m=\u001b[0m \u001b[0mopen\u001b[0m\u001b[0;34m(\u001b[0m\u001b[0;34m'/Users/maddiegupta/Desktop/sample1.txt'\u001b[0m\u001b[0;34m)\u001b[0m\u001b[0;34m.\u001b[0m\u001b[0mread\u001b[0m\u001b[0;34m(\u001b[0m\u001b[0;34m)\u001b[0m\u001b[0;34m\u001b[0m\u001b[0;34m\u001b[0m\u001b[0m\n\u001b[0m",
      "\u001b[0;31mFileNotFoundError\u001b[0m: [Errno 2] No such file or directory: '/Users/maddiegupta/Desktop/sample1.txt'"
     ]
    }
   ],
   "source": [
    "my_file = open('/Users/maddiegupta/Desktop/sample1.txt').read()"
   ]
  },
  {
   "cell_type": "markdown",
   "metadata": {
    "id": "8TIXk_hbnk8q"
   },
   "source": [
    "You'll notice that the line above starts with `open()`. `open()` is an example of a **built-in** function, which means it comes predefined in all Python files. There are a small handful of these built-in functions, including the `print()` and `dir()` functions we saw above. For now we should note that `open()` returns a \"file handler\" that contains a `read()` method. Calling that `read()` method lets us read the text content of a file into memory."
   ]
  },
  {
   "cell_type": "markdown",
   "metadata": {
    "id": "n85BKCv8HwOl"
   },
   "source": [
    "You'll also notice a list of your variables can be seen if you click the {x} tab in the far left column. You can also see the file jabberwocky.txt if you click on the folder icon. Note that files stored here in colab are NOT saved outside of this specific runtime! There are other ways to keep files permanently available, if you wish."
   ]
  },
  {
   "cell_type": "markdown",
   "metadata": {
    "id": "5K3LsA9E4Do4"
   },
   "source": [
    "Congrats on finishing your first DH lab!\n",
    "\n",
    "This lab is adapted from “YDATA: Humanities Data Mining Course Materials” by Peter Leonard, used under CC BY 3.0."
   ]
  }
 ],
 "metadata": {
  "colab": {
   "provenance": [
    {
     "file_id": "1ynzXjh0hKbdJIj0LtQuPFn-SaCWY3rPi",
     "timestamp": 1720718669188
    },
    {
     "file_id": "1_dFxGwJWXeTVjVD6EyZP3FRqifRaQpUZ",
     "timestamp": 1643250414499
    }
   ]
  },
  "kernelspec": {
   "display_name": "Python 3",
   "language": "python",
   "name": "python3"
  },
  "language_info": {
   "codemirror_mode": {
    "name": "ipython",
    "version": 3
   },
   "file_extension": ".py",
   "mimetype": "text/x-python",
   "name": "python",
   "nbconvert_exporter": "python",
   "pygments_lexer": "ipython3",
   "version": "3.5.3"
  }
 },
 "nbformat": 4,
 "nbformat_minor": 0
}
